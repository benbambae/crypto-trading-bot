{
 "cells": [
  {
   "cell_type": "code",
   "execution_count": null,
   "id": "3454d21c-48bb-42e3-8a73-1ecbd4baa1f0",
   "metadata": {},
   "outputs": [],
   "source": []
  }
 ],
 "metadata": {
  "kernelspec": {
   "display_name": "",
   "name": ""
  },
  "language_info": {
   "name": ""
  }
 },
 "nbformat": 4,
 "nbformat_minor": 5
}
